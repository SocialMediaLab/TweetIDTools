{
  "nbformat": 4,
  "nbformat_minor": 0,
  "metadata": {
    "colab": {
      "name": "demo_notenook.ipynb",
      "provenance": [],
      "collapsed_sections": [],
      "authorship_tag": "ABX9TyNPou4KNLpxbVPHjzNL16GR",
      "include_colab_link": true
    },
    "kernelspec": {
      "name": "python3",
      "display_name": "Python 3"
    },
    "language_info": {
      "name": "python"
    }
  },
  "cells": [
    {
      "cell_type": "markdown",
      "metadata": {
        "id": "view-in-github",
        "colab_type": "text"
      },
      "source": [
        "<a href=\"https://colab.research.google.com/github/SocialMediaLab/TweetIDTools/blob/main/demo_notenook.ipynb\" target=\"_parent\"><img src=\"https://colab.research.google.com/assets/colab-badge.svg\" alt=\"Open In Colab\"/></a>"
      ]
    },
    {
      "cell_type": "code",
      "metadata": {
        "id": "puaR0LH1tyrb"
      },
      "source": [
        "import gzip, zlib\n",
        "import shutil\n",
        "import pandas as pd\n",
        "import urllib.request\n",
        "from io import StringIO"
      ],
      "execution_count": 1,
      "outputs": []
    },
    {
      "cell_type": "code",
      "metadata": {
        "colab": {
          "base_uri": "https://localhost:8080/"
        },
        "id": "6vnojTb4CTNA",
        "outputId": "ce27bdec-e463-4c2a-d8f6-0f189c00712a"
      },
      "source": [
        "#get external libary to work with tweetids\n",
        "!git clone https://github.com/SocialMediaLab/TweetIDTools.git"
      ],
      "execution_count": 17,
      "outputs": [
        {
          "output_type": "stream",
          "name": "stdout",
          "text": [
            "fatal: destination path 'TweetIDTools' already exists and is not an empty directory.\n"
          ]
        }
      ]
    },
    {
      "cell_type": "code",
      "metadata": {
        "id": "XKZ51HKjCfC2",
        "colab": {
          "base_uri": "https://localhost:8080/"
        },
        "outputId": "c25d62ae-a4a4-42fd-fad6-bc33e72f2934"
      },
      "source": [
        "# navigate to the working directory\n",
        "%cd TweetIDTools"
      ],
      "execution_count": 19,
      "outputs": [
        {
          "output_type": "stream",
          "name": "stdout",
          "text": [
            "/content/TweetIDTools\n"
          ]
        }
      ]
    },
    {
      "cell_type": "code",
      "metadata": {
        "colab": {
          "base_uri": "https://localhost:8080/"
        },
        "id": "_z9DpSYDDnuf",
        "outputId": "c552237a-69c8-45f8-ea8b-a57e67723dff"
      },
      "source": [
        "# install packages requirements\n",
        "#!pip install -r requirements.txt"
      ],
      "execution_count": null,
      "outputs": [
        {
          "output_type": "stream",
          "name": "stdout",
          "text": [
            "\u001b[31mERROR: Could not open requirements file: [Errno 2] No such file or directory: 'requirements.txt'\u001b[0m\n"
          ]
        }
      ]
    },
    {
      "cell_type": "code",
      "metadata": {
        "id": "EHKcupL8jxOY"
      },
      "source": [
        "# Import TweetIDTools library \n",
        "import tweet_id_subsets"
      ],
      "execution_count": 21,
      "outputs": []
    },
    {
      "cell_type": "code",
      "metadata": {
        "id": "cQFAGhCqt2Ap"
      },
      "source": [
        "# load and unpack an external gzip'ed CSV file with Tweet IDs\n",
        "gz_file  = \"https://figshare.com/ndownloader/files/31249681\"\n",
        "data = urllib.request.urlopen(gz_file)\n",
        "data_obj = data.read()\n",
        "bytes_data = gzip.decompress(data_obj)"
      ],
      "execution_count": 12,
      "outputs": []
    },
    {
      "cell_type": "code",
      "metadata": {
        "id": "O_wgvMMPymAY"
      },
      "source": [
        "# save the input data as a local csv file for processing \n",
        "s=str(bytes_data,'utf-8')\n",
        "csv_data = StringIO(s) \n",
        "df=pd.read_csv(csv_data)"
      ],
      "execution_count": 13,
      "outputs": []
    },
    {
      "cell_type": "code",
      "metadata": {
        "colab": {
          "base_uri": "https://localhost:8080/",
          "height": 204
        },
        "id": "9phxZNHUytOp",
        "outputId": "12741c88-2de3-4d30-b1c2-73e76000f3fd"
      },
      "source": [
        "# checking that Tweets IDs are safely stored in a dataframe\n",
        "df.head()"
      ],
      "execution_count": 14,
      "outputs": [
        {
          "output_type": "execute_result",
          "data": {
            "text/html": [
              "<div>\n",
              "<style scoped>\n",
              "    .dataframe tbody tr th:only-of-type {\n",
              "        vertical-align: middle;\n",
              "    }\n",
              "\n",
              "    .dataframe tbody tr th {\n",
              "        vertical-align: top;\n",
              "    }\n",
              "\n",
              "    .dataframe thead th {\n",
              "        text-align: right;\n",
              "    }\n",
              "</style>\n",
              "<table border=\"1\" class=\"dataframe\">\n",
              "  <thead>\n",
              "    <tr style=\"text-align: right;\">\n",
              "      <th></th>\n",
              "      <th>_id</th>\n",
              "    </tr>\n",
              "  </thead>\n",
              "  <tbody>\n",
              "    <tr>\n",
              "      <th>0</th>\n",
              "      <td>1432855497170849793</td>\n",
              "    </tr>\n",
              "    <tr>\n",
              "      <th>1</th>\n",
              "      <td>1432855499712696322</td>\n",
              "    </tr>\n",
              "    <tr>\n",
              "      <th>2</th>\n",
              "      <td>1432855500056453124</td>\n",
              "    </tr>\n",
              "    <tr>\n",
              "      <th>3</th>\n",
              "      <td>1432855504041164801</td>\n",
              "    </tr>\n",
              "    <tr>\n",
              "      <th>4</th>\n",
              "      <td>1432855504225640453</td>\n",
              "    </tr>\n",
              "  </tbody>\n",
              "</table>\n",
              "</div>"
            ],
            "text/plain": [
              "                   _id\n",
              "0  1432855497170849793\n",
              "1  1432855499712696322\n",
              "2  1432855500056453124\n",
              "3  1432855504041164801\n",
              "4  1432855504225640453"
            ]
          },
          "metadata": {},
          "execution_count": 14
        }
      ]
    },
    {
      "cell_type": "code",
      "metadata": {
        "id": "88AvCSFvExlG"
      },
      "source": [
        "# save the input data as a local csv file for processing \n",
        "# NOTE: if you are running this script in Google's Colab, the free storage is 100Gb\n",
        "out_file = \"sample1.csv\"\n",
        "df.to_csv(out_file, index=False)"
      ],
      "execution_count": 20,
      "outputs": []
    },
    {
      "cell_type": "code",
      "metadata": {
        "colab": {
          "base_uri": "https://localhost:8080/"
        },
        "id": "bL6Da147EkL_",
        "outputId": "526868ee-2dd4-4f53-cde4-d843022e9587"
      },
      "source": [
        "# Read Tweet IDs from a local CSV file \n",
        "ifm = tweet_id_subsets.id_file_manager(out_file)\n",
        "ifm.id_count"
      ],
      "execution_count": 22,
      "outputs": [
        {
          "output_type": "execute_result",
          "data": {
            "text/plain": [
              "760413"
            ]
          },
          "metadata": {},
          "execution_count": 22
        }
      ]
    },
    {
      "cell_type": "code",
      "metadata": {
        "colab": {
          "base_uri": "https://localhost:8080/"
        },
        "id": "TAsD136jF60W",
        "outputId": "21a6ada7-e014-41b0-e356-00499fd793c4"
      },
      "source": [
        "# Create a sample containing 20% of our original file\n",
        "percent_sample = ifm.get_random_sample(\n",
        "    0.2,\n",
        "    'percent_sample.csv', \n",
        "    sample_mode='percent'\n",
        ")\n",
        "percent_sample.id_count"
      ],
      "execution_count": 23,
      "outputs": [
        {
          "output_type": "stream",
          "name": "stdout",
          "text": [
            "Generating random sample\n"
          ]
        },
        {
          "output_type": "stream",
          "name": "stderr",
          "text": [
            "100%|██████████| 152082/152082 [00:01<00:00, 128489.29it/s]\n"
          ]
        },
        {
          "output_type": "execute_result",
          "data": {
            "text/plain": [
              "152082"
            ]
          },
          "metadata": {},
          "execution_count": 23
        }
      ]
    },
    {
      "cell_type": "code",
      "metadata": {
        "colab": {
          "base_uri": "https://localhost:8080/"
        },
        "id": "WwQfUJW4HSpG",
        "outputId": "3aab7e24-0361-41d3-ecde-2c255989190b"
      },
      "source": [
        "# Split the large file into 5 subsets\n",
        "pages = ifm.get_page_samples(5, 'pages.csv')\n",
        "\n",
        "for page in pages:\n",
        "    print(f'{page.file_name}: {page.id_count}')"
      ],
      "execution_count": 24,
      "outputs": [
        {
          "output_type": "stream",
          "name": "stdout",
          "text": [
            "pages_0.csv: 152082\n",
            "pages_1.csv: 152082\n",
            "pages_2.csv: 152082\n",
            "pages_3.csv: 152082\n",
            "pages_4.csv: 152085\n"
          ]
        }
      ]
    },
    {
      "cell_type": "code",
      "metadata": {
        "colab": {
          "base_uri": "https://localhost:8080/"
        },
        "id": "dTVF8HiNSOR-",
        "outputId": "05c6244c-0170-481b-988e-38f345005d4a"
      },
      "source": [
        "#Comparing Files\n",
        "a = ifm.get_random_sample(0.2, 'percent_sample1.csv', sample_mode='percent')\n",
        "b = ifm.get_random_sample(0.2, 'percent_sample2.csv', sample_mode='percent')\n",
        "\n"
      ],
      "execution_count": 25,
      "outputs": [
        {
          "output_type": "stream",
          "name": "stdout",
          "text": [
            "Generating random sample\n"
          ]
        },
        {
          "output_type": "stream",
          "name": "stderr",
          "text": [
            "100%|██████████| 152082/152082 [00:01<00:00, 126174.46it/s]\n"
          ]
        },
        {
          "output_type": "stream",
          "name": "stdout",
          "text": [
            "Generating random sample\n"
          ]
        },
        {
          "output_type": "stream",
          "name": "stderr",
          "text": [
            "100%|██████████| 152082/152082 [00:01<00:00, 126119.25it/s]\n"
          ]
        }
      ]
    },
    {
      "cell_type": "code",
      "metadata": {
        "colab": {
          "base_uri": "https://localhost:8080/"
        },
        "id": "QgBEVcP1SlEv",
        "outputId": "29ea5505-81a3-4dbd-f919-6cb63af28392"
      },
      "source": [
        "# Get all of tweet ids that are in both a and b\n",
        "intersection = a.get_intersection(b, 'intersection.csv')\n",
        "intersection.id_count"
      ],
      "execution_count": 26,
      "outputs": [
        {
          "output_type": "stream",
          "name": "stdout",
          "text": [
            "Splitting file\n"
          ]
        },
        {
          "output_type": "stream",
          "name": "stderr",
          "text": [
            "1000000it [00:00, 2022105.60it/s]\n"
          ]
        },
        {
          "output_type": "stream",
          "name": "stdout",
          "text": [
            "Sorting IDs\n"
          ]
        },
        {
          "output_type": "stream",
          "name": "stderr",
          "text": [
            "100%|██████████| 1/1 [00:00<00:00, 2490.68it/s]\n"
          ]
        },
        {
          "output_type": "stream",
          "name": "stdout",
          "text": [
            "Merging IDs\n"
          ]
        },
        {
          "output_type": "stream",
          "name": "stderr",
          "text": [
            "100%|██████████| 152082/152082 [00:00<00:00, 361862.47it/s]\n",
            "100%|██████████| 152082/152082 [00:09<00:00, 16711.15it/s]\n"
          ]
        },
        {
          "output_type": "execute_result",
          "data": {
            "text/plain": [
              "30397"
            ]
          },
          "metadata": {},
          "execution_count": 26
        }
      ]
    },
    {
      "cell_type": "code",
      "metadata": {
        "colab": {
          "base_uri": "https://localhost:8080/"
        },
        "id": "e4p1ndLuTYk3",
        "outputId": "6e8e7135-545f-4f65-fbf9-e18e686efabc"
      },
      "source": [
        "#Difference\n",
        "# Get all of the IDs that are in a, but not b\n",
        "difference = a.get_difference(b, 'difference.csv')\n",
        "difference.id_count"
      ],
      "execution_count": 27,
      "outputs": [
        {
          "output_type": "stream",
          "name": "stdout",
          "text": [
            "Splitting file\n"
          ]
        },
        {
          "output_type": "stream",
          "name": "stderr",
          "text": [
            "1000000it [00:00, 2122908.18it/s]\n"
          ]
        },
        {
          "output_type": "stream",
          "name": "stdout",
          "text": [
            "Sorting IDs\n"
          ]
        },
        {
          "output_type": "stream",
          "name": "stderr",
          "text": [
            "100%|██████████| 1/1 [00:00<00:00, 3390.71it/s]\n"
          ]
        },
        {
          "output_type": "stream",
          "name": "stdout",
          "text": [
            "Merging IDs\n"
          ]
        },
        {
          "output_type": "stream",
          "name": "stderr",
          "text": [
            "100%|██████████| 152082/152082 [00:00<00:00, 360468.05it/s]\n",
            "100%|██████████| 152082/152082 [00:09<00:00, 16305.99it/s]\n"
          ]
        },
        {
          "output_type": "execute_result",
          "data": {
            "text/plain": [
              "121685"
            ]
          },
          "metadata": {},
          "execution_count": 27
        }
      ]
    },
    {
      "cell_type": "code",
      "metadata": {
        "colab": {
          "base_uri": "https://localhost:8080/"
        },
        "id": "wbF3PxWhTnzF",
        "outputId": "f403e85a-5560-422a-9e05-e31ab0582613"
      },
      "source": [
        "# Union\n",
        "union = a.get_union(b, 'union.csv')\n",
        "union.id_count"
      ],
      "execution_count": 28,
      "outputs": [
        {
          "output_type": "stream",
          "name": "stdout",
          "text": [
            "Creating union of the two files in union.csv\n",
            "Splitting file\n"
          ]
        },
        {
          "output_type": "stream",
          "name": "stderr",
          "text": [
            "1000000it [00:00, 2025857.03it/s]\n"
          ]
        },
        {
          "output_type": "stream",
          "name": "stdout",
          "text": [
            "Sorting IDs\n"
          ]
        },
        {
          "output_type": "stream",
          "name": "stderr",
          "text": [
            "100%|██████████| 1/1 [00:00<00:00, 3830.41it/s]\n"
          ]
        },
        {
          "output_type": "stream",
          "name": "stdout",
          "text": [
            "Merging IDs\n"
          ]
        },
        {
          "output_type": "stream",
          "name": "stderr",
          "text": [
            "100%|██████████| 152082/152082 [00:00<00:00, 344477.23it/s]\n"
          ]
        },
        {
          "output_type": "stream",
          "name": "stdout",
          "text": [
            "Writing results from percent_sample1.csv\n"
          ]
        },
        {
          "output_type": "stream",
          "name": "stderr",
          "text": [
            "100%|██████████| 152082/152082 [00:00<00:00, 515897.32it/s]\n"
          ]
        },
        {
          "output_type": "stream",
          "name": "stdout",
          "text": [
            "Writing results from percent_sample2.csv\n"
          ]
        },
        {
          "output_type": "stream",
          "name": "stderr",
          "text": [
            "100%|██████████| 152082/152082 [00:09<00:00, 16067.28it/s]\n"
          ]
        },
        {
          "output_type": "execute_result",
          "data": {
            "text/plain": [
              "273767"
            ]
          },
          "metadata": {},
          "execution_count": 28
        }
      ]
    }
  ]
}