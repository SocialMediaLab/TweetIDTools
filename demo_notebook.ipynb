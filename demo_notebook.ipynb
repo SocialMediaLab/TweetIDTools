{
  "nbformat": 4,
  "nbformat_minor": 0,
  "metadata": {
    "colab": {
      "name": "Copy of demo_notebook.ipynb",
      "provenance": [],
      "collapsed_sections": [],
      "include_colab_link": true
    },
    "kernelspec": {
      "name": "python3",
      "display_name": "Python 3"
    },
    "language_info": {
      "name": "python"
    }
  },
  "cells": [
    {
      "cell_type": "markdown",
      "metadata": {
        "id": "view-in-github",
        "colab_type": "text"
      },
      "source": [
        "<a href=\"https://colab.research.google.com/github/SocialMediaLab/Tweets_Sampling_Toolkit/blob/main/demo_notebook.ipynb\" target=\"_parent\"><img src=\"https://colab.research.google.com/assets/colab-badge.svg\" alt=\"Open In Colab\"/></a>"
      ]
    },
    {
      "cell_type": "code",
      "metadata": {
        "id": "puaR0LH1tyrb"
      },
      "source": [
        "import gzip, zlib\n",
        "import shutil\n",
        "import urllib.request\n",
        "from io import StringIO"
      ],
      "execution_count": null,
      "outputs": []
    },
    {
      "cell_type": "code",
      "metadata": {
        "colab": {
          "base_uri": "https://localhost:8080/"
        },
        "id": "6vnojTb4CTNA",
        "outputId": "4113aa4c-bbe6-4782-d427-ac6a8245f436"
      },
      "source": [
        "#get external libary to work with tweetids\n",
        "!git clone https://github.com/SocialMediaLab/Tweets_Sampling_Toolkit.git"
      ],
      "execution_count": null,
      "outputs": [
        {
          "output_type": "stream",
          "name": "stdout",
          "text": [
            "Cloning into 'Tweets_Sampling_Toolkit'...\n",
            "remote: Enumerating objects: 65, done.\u001b[K\n",
            "remote: Counting objects: 100% (65/65), done.\u001b[K\n",
            "remote: Compressing objects: 100% (64/64), done.\u001b[K\n",
            "remote: Total 65 (delta 33), reused 0 (delta 0), pack-reused 0\u001b[K\n",
            "Unpacking objects: 100% (65/65), done.\n"
          ]
        }
      ]
    },
    {
      "cell_type": "code",
      "metadata": {
        "id": "XKZ51HKjCfC2",
        "colab": {
          "base_uri": "https://localhost:8080/"
        },
        "outputId": "667c2e95-87dc-47a4-97dd-f96fb638a5cc"
      },
      "source": [
        "# navigate to the working directory\n",
        "%cd Tweets_Sampling_Toolkit"
      ],
      "execution_count": null,
      "outputs": [
        {
          "output_type": "stream",
          "name": "stdout",
          "text": [
            "/content/Tweets_Sampling_Toolkit\n"
          ]
        }
      ]
    },
    {
      "cell_type": "code",
      "metadata": {
        "id": "_z9DpSYDDnuf",
        "colab": {
          "base_uri": "https://localhost:8080/"
        },
        "outputId": "f9da4d80-12d9-42ac-cca2-01c27881b6fc"
      },
      "source": [
        "# install packages requirements (This is an optional step)\n",
        "!pip install -r requirements.txt"
      ],
      "execution_count": null,
      "outputs": [
        {
          "output_type": "stream",
          "name": "stdout",
          "text": [
            "Requirement already satisfied: tqdm in /usr/local/lib/python3.7/dist-packages (from -r requirements.txt (line 1)) (4.62.3)\n"
          ]
        }
      ]
    },
    {
      "cell_type": "code",
      "metadata": {
        "id": "EHKcupL8jxOY"
      },
      "source": [
        "# Import Tweets Sampling Library \n",
        "import tweets_sampling"
      ],
      "execution_count": null,
      "outputs": []
    },
    {
      "cell_type": "code",
      "metadata": {
        "id": "cQFAGhCqt2Ap"
      },
      "source": [
        "# load and unpack an external gzip'ed CSV file with Tweet IDs\n",
        "gz_file  = \"https://figshare.com/ndownloader/files/31249681\"\n",
        "data = urllib.request.urlopen(gz_file)\n",
        "data_obj = data.read()\n",
        "bytes_data = gzip.decompress(data_obj)\n",
        "\n",
        "with open('sample1.csv', 'wb') as f:\n",
        "  f.write(bytes_data)"
      ],
      "execution_count": null,
      "outputs": []
    },
    {
      "cell_type": "code",
      "metadata": {
        "colab": {
          "base_uri": "https://localhost:8080/"
        },
        "id": "bL6Da147EkL_",
        "outputId": "9572deba-264f-4124-f2bc-e291e2106cda"
      },
      "source": [
        "# Load a local CSV file \n",
        "# The entire file will not be read, instead, its length will be\n",
        "# calculated based on its length\n",
        "ifm = tweets_sampling.id_file_manager(out_file)\n",
        "ifm.id_count"
      ],
      "execution_count": null,
      "outputs": [
        {
          "output_type": "stream",
          "name": "stdout",
          "text": [
            "New file: 760413 IDs (sample1.csv)\n"
          ]
        },
        {
          "output_type": "execute_result",
          "data": {
            "text/plain": [
              "760413"
            ]
          },
          "metadata": {},
          "execution_count": 10
        }
      ]
    },
    {
      "cell_type": "code",
      "metadata": {
        "colab": {
          "base_uri": "https://localhost:8080/"
        },
        "id": "TAsD136jF60W",
        "outputId": "d8bfb0ea-a64e-486f-dca2-fc39644a6ef5"
      },
      "source": [
        "# Create a sample containing 20% of our original file\n",
        "# Alternatively, you can use sample_mode=\"absolute\" to create a\n",
        "# sample with (for example) 3000 IDs\n",
        "percent_sample = ifm.get_random_sample(\n",
        "    0.2,\n",
        "    'percent_sample.csv', \n",
        "    sample_mode='percent'\n",
        ")\n",
        "percent_sample.id_count"
      ],
      "execution_count": null,
      "outputs": [
        {
          "output_type": "stream",
          "name": "stdout",
          "text": [
            "Generating random sample\n"
          ]
        },
        {
          "output_type": "stream",
          "name": "stderr",
          "text": [
            "100%|██████████| 152082/152082 [00:00<00:00, 155157.44it/s]"
          ]
        },
        {
          "output_type": "stream",
          "name": "stdout",
          "text": [
            "New file: 152082 IDs (percent_sample.csv)\n"
          ]
        },
        {
          "output_type": "stream",
          "name": "stderr",
          "text": [
            "\n"
          ]
        },
        {
          "output_type": "execute_result",
          "data": {
            "text/plain": [
              "152082"
            ]
          },
          "metadata": {},
          "execution_count": 11
        }
      ]
    },
    {
      "cell_type": "code",
      "metadata": {
        "colab": {
          "base_uri": "https://localhost:8080/"
        },
        "id": "WwQfUJW4HSpG",
        "outputId": "c0526aed-7807-4c81-e50c-5d6646010ec9"
      },
      "source": [
        "# Split the large file into 5 subsets\n",
        "# Each ID from the original subset will be present in one of the\n",
        "# five files\n",
        "pages = ifm.get_page_samples(5, 'pages.csv')\n",
        "\n",
        "# Print each resulting file's name and ID count\n",
        "for page in pages:\n",
        "    print(f'{page.file_name}: {page.id_count}')"
      ],
      "execution_count": null,
      "outputs": [
        {
          "output_type": "stream",
          "name": "stdout",
          "text": [
            "Generating page 1 of 5\n"
          ]
        },
        {
          "output_type": "stream",
          "name": "stderr",
          "text": [
            "100%|██████████| 152082/152082 [00:00<00:00, 610806.58it/s]\n"
          ]
        },
        {
          "output_type": "stream",
          "name": "stdout",
          "text": [
            "New file: 152082 IDs (pages_0.csv)\n",
            "Generating page 2 of 5\n"
          ]
        },
        {
          "output_type": "stream",
          "name": "stderr",
          "text": [
            "100%|██████████| 152082/152082 [00:00<00:00, 608373.25it/s]\n"
          ]
        },
        {
          "output_type": "stream",
          "name": "stdout",
          "text": [
            "New file: 152082 IDs (pages_1.csv)\n",
            "Generating page 3 of 5\n"
          ]
        },
        {
          "output_type": "stream",
          "name": "stderr",
          "text": [
            "100%|██████████| 152082/152082 [00:00<00:00, 574566.13it/s]\n"
          ]
        },
        {
          "output_type": "stream",
          "name": "stdout",
          "text": [
            "New file: 152082 IDs (pages_2.csv)\n",
            "Generating page 4 of 5\n"
          ]
        },
        {
          "output_type": "stream",
          "name": "stderr",
          "text": [
            "100%|██████████| 152082/152082 [00:00<00:00, 619503.66it/s]\n"
          ]
        },
        {
          "output_type": "stream",
          "name": "stdout",
          "text": [
            "New file: 152082 IDs (pages_3.csv)\n",
            "Generating page 5 of 5\n"
          ]
        },
        {
          "output_type": "stream",
          "name": "stderr",
          "text": [
            "100%|██████████| 152085/152085 [00:00<00:00, 563545.54it/s]"
          ]
        },
        {
          "output_type": "stream",
          "name": "stdout",
          "text": [
            "New file: 152085 IDs (pages_4.csv)\n",
            "pages_0.csv: 152082\n",
            "pages_1.csv: 152082\n",
            "pages_2.csv: 152082\n",
            "pages_3.csv: 152082\n",
            "pages_4.csv: 152085\n"
          ]
        },
        {
          "output_type": "stream",
          "name": "stderr",
          "text": [
            "\n"
          ]
        }
      ]
    },
    {
      "cell_type": "code",
      "metadata": {
        "colab": {
          "base_uri": "https://localhost:8080/"
        },
        "id": "dTVF8HiNSOR-",
        "outputId": "eaead9c8-78b5-4470-ae64-8e94aca421b3"
      },
      "source": [
        "# Comparing Files\n",
        "# We will create two samples to compare to each other\n",
        "\n",
        "a = ifm.get_random_sample(0.2, 'percent_sample1.csv', sample_mode='percent')\n",
        "b = ifm.get_random_sample(0.2, 'percent_sample2.csv', sample_mode='percent')\n"
      ],
      "execution_count": null,
      "outputs": [
        {
          "output_type": "stream",
          "name": "stdout",
          "text": [
            "Generating random sample\n"
          ]
        },
        {
          "output_type": "stream",
          "name": "stderr",
          "text": [
            "100%|██████████| 152082/152082 [00:00<00:00, 156903.57it/s]\n"
          ]
        },
        {
          "output_type": "stream",
          "name": "stdout",
          "text": [
            "New file: 152082 IDs (percent_sample1.csv)\n",
            "Generating random sample\n"
          ]
        },
        {
          "output_type": "stream",
          "name": "stderr",
          "text": [
            "100%|██████████| 152082/152082 [00:00<00:00, 155565.69it/s]"
          ]
        },
        {
          "output_type": "stream",
          "name": "stdout",
          "text": [
            "New file: 152082 IDs (percent_sample2.csv)\n"
          ]
        },
        {
          "output_type": "stream",
          "name": "stderr",
          "text": [
            "\n"
          ]
        }
      ]
    },
    {
      "cell_type": "code",
      "metadata": {
        "colab": {
          "base_uri": "https://localhost:8080/"
        },
        "id": "QgBEVcP1SlEv",
        "outputId": "e20d285f-b0ee-41f6-a4db-70d24f9a7838"
      },
      "source": [
        "# Get all of tweet ids that are in both a and b\n",
        "# One of the files will be automatically sorted to allow a\n",
        "# binary search algorithm to check for overlap\n",
        "\n",
        "intersection = a.get_intersection(b, 'intersection.csv')\n",
        "intersection.id_count"
      ],
      "execution_count": null,
      "outputs": [
        {
          "output_type": "stream",
          "name": "stdout",
          "text": [
            "Sorting file (Step 1)\n"
          ]
        },
        {
          "output_type": "stream",
          "name": "stderr",
          "text": [
            "1000000it [00:00, 2589661.61it/s]\n"
          ]
        },
        {
          "output_type": "stream",
          "name": "stdout",
          "text": [
            "Sorting file (Step 2)\n"
          ]
        },
        {
          "output_type": "stream",
          "name": "stderr",
          "text": [
            "100%|██████████| 1/1 [00:00<00:00, 5140.08it/s]\n"
          ]
        },
        {
          "output_type": "stream",
          "name": "stdout",
          "text": [
            "Sorting file (Step 3)\n"
          ]
        },
        {
          "output_type": "stream",
          "name": "stderr",
          "text": [
            "100%|██████████| 152082/152082 [00:00<00:00, 423292.81it/s]\n"
          ]
        },
        {
          "output_type": "stream",
          "name": "stdout",
          "text": [
            "Checking files for overlap (Final Step)\n"
          ]
        },
        {
          "output_type": "stream",
          "name": "stderr",
          "text": [
            "100%|██████████| 152082/152082 [00:07<00:00, 19788.94it/s]"
          ]
        },
        {
          "output_type": "stream",
          "name": "stdout",
          "text": [
            "New file: 30434 IDs (intersection.csv)\n",
            "30434 IDs were found in both percent_sample2.csv and percent_sample1.csv.\n"
          ]
        },
        {
          "output_type": "stream",
          "name": "stderr",
          "text": [
            "\n"
          ]
        },
        {
          "output_type": "execute_result",
          "data": {
            "text/plain": [
              "30434"
            ]
          },
          "metadata": {},
          "execution_count": 14
        }
      ]
    },
    {
      "cell_type": "code",
      "metadata": {
        "colab": {
          "base_uri": "https://localhost:8080/"
        },
        "id": "e4p1ndLuTYk3",
        "outputId": "9f8d9928-79e2-4eca-9776-4f487d931a08"
      },
      "source": [
        "#Difference\n",
        "# Get all of the IDs that are in a, but not b\n",
        "difference = a.get_difference(b, 'difference.csv')\n",
        "difference.id_count"
      ],
      "execution_count": null,
      "outputs": [
        {
          "output_type": "stream",
          "name": "stdout",
          "text": [
            "Generating difference file\n",
            "Sorting file (Step 1)\n"
          ]
        },
        {
          "output_type": "stream",
          "name": "stderr",
          "text": [
            "1000000it [00:00, 2472619.23it/s]\n"
          ]
        },
        {
          "output_type": "stream",
          "name": "stdout",
          "text": [
            "Sorting file (Step 2)\n"
          ]
        },
        {
          "output_type": "stream",
          "name": "stderr",
          "text": [
            "100%|██████████| 1/1 [00:00<00:00, 4782.56it/s]\n"
          ]
        },
        {
          "output_type": "stream",
          "name": "stdout",
          "text": [
            "Sorting file (Step 3)\n"
          ]
        },
        {
          "output_type": "stream",
          "name": "stderr",
          "text": [
            "100%|██████████| 152082/152082 [00:00<00:00, 405999.08it/s]\n"
          ]
        },
        {
          "output_type": "stream",
          "name": "stdout",
          "text": [
            "Writing results from percent_sample1.csv\n"
          ]
        },
        {
          "output_type": "stream",
          "name": "stderr",
          "text": [
            "100%|██████████| 152082/152082 [00:07<00:00, 19148.86it/s]"
          ]
        },
        {
          "output_type": "stream",
          "name": "stdout",
          "text": [
            "New file: 121648 IDs (difference.csv)\n",
            "30434 IDs were found in both percent_sample1.csv and percent_sample2.csv.\n"
          ]
        },
        {
          "output_type": "stream",
          "name": "stderr",
          "text": [
            "\n"
          ]
        },
        {
          "output_type": "execute_result",
          "data": {
            "text/plain": [
              "121648"
            ]
          },
          "metadata": {},
          "execution_count": 15
        }
      ]
    },
    {
      "cell_type": "code",
      "metadata": {
        "colab": {
          "base_uri": "https://localhost:8080/"
        },
        "id": "wbF3PxWhTnzF",
        "outputId": "c9d1f1d9-8f26-4230-e646-fef5400de1d9"
      },
      "source": [
        "# Get all of the files that are in either a or b\n",
        "union = a.get_union(b, 'union.csv')\n",
        "union.id_count"
      ],
      "execution_count": null,
      "outputs": [
        {
          "output_type": "stream",
          "name": "stdout",
          "text": [
            "Creating union file\n",
            "Sorting file (Step 1)\n"
          ]
        },
        {
          "output_type": "stream",
          "name": "stderr",
          "text": [
            "1000000it [00:00, 2491546.35it/s]\n"
          ]
        },
        {
          "output_type": "stream",
          "name": "stdout",
          "text": [
            "Sorting file (Step 2)\n"
          ]
        },
        {
          "output_type": "stream",
          "name": "stderr",
          "text": [
            "100%|██████████| 1/1 [00:00<00:00, 4675.92it/s]\n"
          ]
        },
        {
          "output_type": "stream",
          "name": "stdout",
          "text": [
            "Sorting file (Step 3)\n"
          ]
        },
        {
          "output_type": "stream",
          "name": "stderr",
          "text": [
            "100%|██████████| 152082/152082 [00:00<00:00, 399358.24it/s]\n"
          ]
        },
        {
          "output_type": "stream",
          "name": "stdout",
          "text": [
            "Writing results from percent_sample1.csv\n"
          ]
        },
        {
          "output_type": "stream",
          "name": "stderr",
          "text": [
            "100%|██████████| 152082/152082 [00:00<00:00, 582171.33it/s]\n"
          ]
        },
        {
          "output_type": "stream",
          "name": "stdout",
          "text": [
            "Writing results from percent_sample2.csv\n"
          ]
        },
        {
          "output_type": "stream",
          "name": "stderr",
          "text": [
            "100%|██████████| 152082/152082 [00:07<00:00, 19404.96it/s]"
          ]
        },
        {
          "output_type": "stream",
          "name": "stdout",
          "text": [
            "New file: 273730 IDs (union.csv)\n",
            "30434 IDs were found in both percent_sample1.csv and percent_sample2.csv.\n"
          ]
        },
        {
          "output_type": "stream",
          "name": "stderr",
          "text": [
            "\n"
          ]
        },
        {
          "output_type": "execute_result",
          "data": {
            "text/plain": [
              "273730"
            ]
          },
          "metadata": {},
          "execution_count": 16
        }
      ]
    }
  ]
}