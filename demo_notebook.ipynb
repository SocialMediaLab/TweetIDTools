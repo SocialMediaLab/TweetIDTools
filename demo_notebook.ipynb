{
  "nbformat": 4,
  "nbformat_minor": 0,
  "metadata": {
    "colab": {
      "name": "demo_notebook.ipynb",
      "provenance": [],
      "collapsed_sections": [],
      "authorship_tag": "ABX9TyOdxvSbomkH+hY5lMnRxjFd",
      "include_colab_link": true
    },
    "kernelspec": {
      "name": "python3",
      "display_name": "Python 3"
    },
    "language_info": {
      "name": "python"
    }
  },
  "cells": [
    {
      "cell_type": "markdown",
      "metadata": {
        "id": "view-in-github",
        "colab_type": "text"
      },
      "source": [
        "<a href=\"https://colab.research.google.com/github/SocialMediaLab/TweetsSamplingToolkit/blob/main/demo_notebook.ipynb\" target=\"_parent\"><img src=\"https://colab.research.google.com/assets/colab-badge.svg\" alt=\"Open In Colab\"/></a>"
      ]
    },
    {
      "cell_type": "code",
      "metadata": {
        "id": "puaR0LH1tyrb"
      },
      "source": [
        "import gzip, zlib\n",
        "import shutil\n",
        "import pandas as pd\n",
        "import urllib.request\n",
        "from io import StringIO"
      ],
      "execution_count": 1,
      "outputs": []
    },
    {
      "cell_type": "code",
      "metadata": {
        "colab": {
          "base_uri": "https://localhost:8080/"
        },
        "id": "6vnojTb4CTNA",
        "outputId": "6e842590-7657-4ba2-ec0f-f8be2efffb97"
      },
      "source": [
        "#get external libary to work with tweetids\n",
        "!git clone https://github.com/SocialMediaLab/Tweets_Sampling_Toolkit.git"
      ],
      "execution_count": 2,
      "outputs": [
        {
          "output_type": "stream",
          "name": "stdout",
          "text": [
            "Cloning into 'TweetsSamplingToolkit'...\n",
            "remote: Enumerating objects: 36, done.\u001b[K\n",
            "remote: Counting objects: 100% (36/36), done.\u001b[K\n",
            "remote: Compressing objects: 100% (36/36), done.\u001b[K\n",
            "remote: Total 36 (delta 17), reused 0 (delta 0), pack-reused 0\u001b[K\n",
            "Unpacking objects: 100% (36/36), done.\n"
          ]
        }
      ]
    },
    {
      "cell_type": "code",
      "metadata": {
        "id": "XKZ51HKjCfC2",
        "colab": {
          "base_uri": "https://localhost:8080/"
        },
        "outputId": "465318d3-a457-4d84-ee9b-5aa00f7d02ec"
      },
      "source": [
        "# navigate to the working directory\n",
        "%cd Tweets_Sampling_Toolkit"
      ],
      "execution_count": 4,
      "outputs": [
        {
          "output_type": "stream",
          "name": "stdout",
          "text": [
            "/content/TweetsSamplingToolkit\n"
          ]
        }
      ]
    },
    {
      "cell_type": "code",
      "metadata": {
        "id": "_z9DpSYDDnuf"
      },
      "source": [
        "# install packages requirements (This is an optional step)\n",
        "#!pip install -r requirements.txt"
      ],
      "execution_count": 5,
      "outputs": []
    },
    {
      "cell_type": "code",
      "metadata": {
        "id": "EHKcupL8jxOY"
      },
      "source": [
        "# Import Tweets Sampling Library \n",
        "import tweets_sampling"
      ],
      "execution_count": 6,
      "outputs": []
    },
    {
      "cell_type": "code",
      "metadata": {
        "id": "cQFAGhCqt2Ap",
        "colab": {
          "base_uri": "https://localhost:8080/",
          "height": 204
        },
        "outputId": "60429e32-9345-4f29-d969-18e6691b1c6c"
      },
      "source": [
        "# load and unpack an external gzip'ed CSV file with Tweet IDs\n",
        "gz_file  = \"https://figshare.com/ndownloader/files/31249681\"\n",
        "data = urllib.request.urlopen(gz_file)\n",
        "data_obj = data.read()\n",
        "bytes_data = gzip.decompress(data_obj)\n",
        "\n",
        "# save the input data as a local csv file for processing \n",
        "s=str(bytes_data,'utf-8')\n",
        "csv_data = StringIO(s) \n",
        "df=pd.read_csv(csv_data)\n",
        "# checking that Tweet IDs are safely stored in a dataframe\n",
        "df.head()"
      ],
      "execution_count": 8,
      "outputs": [
        {
          "output_type": "execute_result",
          "data": {
            "text/html": [
              "<div>\n",
              "<style scoped>\n",
              "    .dataframe tbody tr th:only-of-type {\n",
              "        vertical-align: middle;\n",
              "    }\n",
              "\n",
              "    .dataframe tbody tr th {\n",
              "        vertical-align: top;\n",
              "    }\n",
              "\n",
              "    .dataframe thead th {\n",
              "        text-align: right;\n",
              "    }\n",
              "</style>\n",
              "<table border=\"1\" class=\"dataframe\">\n",
              "  <thead>\n",
              "    <tr style=\"text-align: right;\">\n",
              "      <th></th>\n",
              "      <th>_id</th>\n",
              "    </tr>\n",
              "  </thead>\n",
              "  <tbody>\n",
              "    <tr>\n",
              "      <th>0</th>\n",
              "      <td>1432855497170849793</td>\n",
              "    </tr>\n",
              "    <tr>\n",
              "      <th>1</th>\n",
              "      <td>1432855499712696322</td>\n",
              "    </tr>\n",
              "    <tr>\n",
              "      <th>2</th>\n",
              "      <td>1432855500056453124</td>\n",
              "    </tr>\n",
              "    <tr>\n",
              "      <th>3</th>\n",
              "      <td>1432855504041164801</td>\n",
              "    </tr>\n",
              "    <tr>\n",
              "      <th>4</th>\n",
              "      <td>1432855504225640453</td>\n",
              "    </tr>\n",
              "  </tbody>\n",
              "</table>\n",
              "</div>"
            ],
            "text/plain": [
              "                   _id\n",
              "0  1432855497170849793\n",
              "1  1432855499712696322\n",
              "2  1432855500056453124\n",
              "3  1432855504041164801\n",
              "4  1432855504225640453"
            ]
          },
          "metadata": {},
          "execution_count": 8
        }
      ]
    },
    {
      "cell_type": "code",
      "metadata": {
        "id": "88AvCSFvExlG"
      },
      "source": [
        "# save the input data as a local csv file for processing with the Toolkit\n",
        "# NOTE: if you are running this script in Google's Colab, the free storage is 100Gb\n",
        "out_file = \"sample1.csv\"\n",
        "df.to_csv(out_file, index=False)"
      ],
      "execution_count": 9,
      "outputs": []
    },
    {
      "cell_type": "code",
      "metadata": {
        "colab": {
          "base_uri": "https://localhost:8080/"
        },
        "id": "bL6Da147EkL_",
        "outputId": "53d523f2-598e-4182-e320-f088361bc548"
      },
      "source": [
        "# Read Tweet IDs from a local CSV file \n",
        "ifm = tweet_id_subsets.id_file_manager(out_file)\n",
        "ifm.id_count"
      ],
      "execution_count": 10,
      "outputs": [
        {
          "output_type": "execute_result",
          "data": {
            "text/plain": [
              "760413"
            ]
          },
          "metadata": {},
          "execution_count": 10
        }
      ]
    },
    {
      "cell_type": "code",
      "metadata": {
        "colab": {
          "base_uri": "https://localhost:8080/"
        },
        "id": "TAsD136jF60W",
        "outputId": "8e0d9ecb-9df8-4f4c-83bd-19d50b0bae60"
      },
      "source": [
        "# Create a sample containing 20% of our original file\n",
        "percent_sample = ifm.get_random_sample(\n",
        "    0.2,\n",
        "    'percent_sample.csv', \n",
        "    sample_mode='percent'\n",
        ")\n",
        "percent_sample.id_count"
      ],
      "execution_count": 11,
      "outputs": [
        {
          "output_type": "stream",
          "name": "stdout",
          "text": [
            "Generating random sample\n"
          ]
        },
        {
          "output_type": "stream",
          "name": "stderr",
          "text": [
            "100%|██████████| 152082/152082 [00:01<00:00, 126438.77it/s]\n"
          ]
        },
        {
          "output_type": "execute_result",
          "data": {
            "text/plain": [
              "152082"
            ]
          },
          "metadata": {},
          "execution_count": 11
        }
      ]
    },
    {
      "cell_type": "code",
      "metadata": {
        "colab": {
          "base_uri": "https://localhost:8080/"
        },
        "id": "WwQfUJW4HSpG",
        "outputId": "bad2c67c-0e6c-4644-95a6-5323ad2cf95f"
      },
      "source": [
        "# Split the large file into 5 subsets\n",
        "pages = ifm.get_page_samples(5, 'pages.csv')\n",
        "\n",
        "for page in pages:\n",
        "    print(f'{page.file_name}: {page.id_count}')"
      ],
      "execution_count": 12,
      "outputs": [
        {
          "output_type": "stream",
          "name": "stdout",
          "text": [
            "pages_0.csv: 152082\n",
            "pages_1.csv: 152082\n",
            "pages_2.csv: 152082\n",
            "pages_3.csv: 152082\n",
            "pages_4.csv: 152085\n"
          ]
        }
      ]
    },
    {
      "cell_type": "code",
      "metadata": {
        "colab": {
          "base_uri": "https://localhost:8080/"
        },
        "id": "dTVF8HiNSOR-",
        "outputId": "412af3e8-7fc8-4f45-ada7-6549e9b9b6d7"
      },
      "source": [
        "#Comparing Files\n",
        "a = ifm.get_random_sample(0.2, 'percent_sample1.csv', sample_mode='percent')\n",
        "b = ifm.get_random_sample(0.2, 'percent_sample2.csv', sample_mode='percent')\n",
        "\n"
      ],
      "execution_count": 13,
      "outputs": [
        {
          "output_type": "stream",
          "name": "stdout",
          "text": [
            "Generating random sample\n"
          ]
        },
        {
          "output_type": "stream",
          "name": "stderr",
          "text": [
            "100%|██████████| 152082/152082 [00:01<00:00, 125595.79it/s]\n"
          ]
        },
        {
          "output_type": "stream",
          "name": "stdout",
          "text": [
            "Generating random sample\n"
          ]
        },
        {
          "output_type": "stream",
          "name": "stderr",
          "text": [
            "100%|██████████| 152082/152082 [00:01<00:00, 127503.87it/s]\n"
          ]
        }
      ]
    },
    {
      "cell_type": "code",
      "metadata": {
        "colab": {
          "base_uri": "https://localhost:8080/"
        },
        "id": "QgBEVcP1SlEv",
        "outputId": "422be793-3d3c-4d91-de29-807bc45d1024"
      },
      "source": [
        "# Get all of tweet ids that are in both a and b\n",
        "intersection = a.get_intersection(b, 'intersection.csv')\n",
        "intersection.id_count"
      ],
      "execution_count": 14,
      "outputs": [
        {
          "output_type": "stream",
          "name": "stdout",
          "text": [
            "Splitting file\n"
          ]
        },
        {
          "output_type": "stream",
          "name": "stderr",
          "text": [
            "1000000it [00:00, 1977200.21it/s]\n"
          ]
        },
        {
          "output_type": "stream",
          "name": "stdout",
          "text": [
            "Sorting IDs\n"
          ]
        },
        {
          "output_type": "stream",
          "name": "stderr",
          "text": [
            "100%|██████████| 1/1 [00:00<00:00, 2439.97it/s]\n"
          ]
        },
        {
          "output_type": "stream",
          "name": "stdout",
          "text": [
            "Merging IDs\n"
          ]
        },
        {
          "output_type": "stream",
          "name": "stderr",
          "text": [
            "100%|██████████| 152082/152082 [00:00<00:00, 373120.67it/s]\n",
            "100%|██████████| 152082/152082 [00:09<00:00, 16648.70it/s]\n"
          ]
        },
        {
          "output_type": "execute_result",
          "data": {
            "text/plain": [
              "30439"
            ]
          },
          "metadata": {},
          "execution_count": 14
        }
      ]
    },
    {
      "cell_type": "code",
      "metadata": {
        "colab": {
          "base_uri": "https://localhost:8080/"
        },
        "id": "e4p1ndLuTYk3",
        "outputId": "068b4d7b-6407-4e2f-b92a-b5c33cdeda50"
      },
      "source": [
        "#Difference\n",
        "# Get all of the IDs that are in a, but not b\n",
        "difference = a.get_difference(b, 'difference.csv')\n",
        "difference.id_count"
      ],
      "execution_count": 15,
      "outputs": [
        {
          "output_type": "stream",
          "name": "stdout",
          "text": [
            "Splitting file\n"
          ]
        },
        {
          "output_type": "stream",
          "name": "stderr",
          "text": [
            "1000000it [00:00, 1883751.24it/s]\n"
          ]
        },
        {
          "output_type": "stream",
          "name": "stdout",
          "text": [
            "Sorting IDs\n"
          ]
        },
        {
          "output_type": "stream",
          "name": "stderr",
          "text": [
            "100%|██████████| 1/1 [00:00<00:00, 3243.85it/s]\n"
          ]
        },
        {
          "output_type": "stream",
          "name": "stdout",
          "text": [
            "Merging IDs\n"
          ]
        },
        {
          "output_type": "stream",
          "name": "stderr",
          "text": [
            "100%|██████████| 152082/152082 [00:00<00:00, 345965.93it/s]\n",
            "100%|██████████| 152082/152082 [00:09<00:00, 16433.54it/s]\n"
          ]
        },
        {
          "output_type": "execute_result",
          "data": {
            "text/plain": [
              "121643"
            ]
          },
          "metadata": {},
          "execution_count": 15
        }
      ]
    },
    {
      "cell_type": "code",
      "metadata": {
        "colab": {
          "base_uri": "https://localhost:8080/"
        },
        "id": "wbF3PxWhTnzF",
        "outputId": "f403e85a-5560-422a-9e05-e31ab0582613"
      },
      "source": [
        "# Union\n",
        "union = a.get_union(b, 'union.csv')\n",
        "union.id_count"
      ],
      "execution_count": null,
      "outputs": [
        {
          "output_type": "stream",
          "name": "stdout",
          "text": [
            "Creating union of the two files in union.csv\n",
            "Splitting file\n"
          ]
        },
        {
          "output_type": "stream",
          "name": "stderr",
          "text": [
            "1000000it [00:00, 2025857.03it/s]\n"
          ]
        },
        {
          "output_type": "stream",
          "name": "stdout",
          "text": [
            "Sorting IDs\n"
          ]
        },
        {
          "output_type": "stream",
          "name": "stderr",
          "text": [
            "100%|██████████| 1/1 [00:00<00:00, 3830.41it/s]\n"
          ]
        },
        {
          "output_type": "stream",
          "name": "stdout",
          "text": [
            "Merging IDs\n"
          ]
        },
        {
          "output_type": "stream",
          "name": "stderr",
          "text": [
            "100%|██████████| 152082/152082 [00:00<00:00, 344477.23it/s]\n"
          ]
        },
        {
          "output_type": "stream",
          "name": "stdout",
          "text": [
            "Writing results from percent_sample1.csv\n"
          ]
        },
        {
          "output_type": "stream",
          "name": "stderr",
          "text": [
            "100%|██████████| 152082/152082 [00:00<00:00, 515897.32it/s]\n"
          ]
        },
        {
          "output_type": "stream",
          "name": "stdout",
          "text": [
            "Writing results from percent_sample2.csv\n"
          ]
        },
        {
          "output_type": "stream",
          "name": "stderr",
          "text": [
            "100%|██████████| 152082/152082 [00:09<00:00, 16067.28it/s]\n"
          ]
        },
        {
          "output_type": "execute_result",
          "data": {
            "text/plain": [
              "273767"
            ]
          },
          "metadata": {},
          "execution_count": 28
        }
      ]
    }
  ]
}
